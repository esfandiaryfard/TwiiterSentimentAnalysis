{
 "cells": [
  {
   "cell_type": "code",
   "execution_count": null,
   "metadata": {
    "pycharm": {
     "name": "#%%\n",
     "is_executing": true
    }
   },
   "outputs": [
    {
     "name": "stdout",
     "output_type": "stream",
     "text": [
      "starting preprocessing...\n",
      "...preprocessing completed\n",
      "starting vectorizing words...\n",
      "...words vectorized\n"
     ]
    }
   ],
   "source": [
    "from sklearn.feature_extraction.text import TfidfVectorizer\n",
    "from sklearn.metrics import silhouette_score\n",
    "import pandas as pd\n",
    "from preprocessing import Preprocessing\n",
    "import numpy as np\n",
    "import tfidf\n",
    "from sklearn.cluster import Birch\n",
    "\n",
    "prp = Preprocessing()\n",
    "df = prp.main()\n",
    "df = Preprocessing.preprocess(df)\n",
    "df = df['text']\n",
    "ntf = tfidf.TFIDF(df)\n",
    "X = ntf.df_tfidf_vectorize(df)\n",
    "\n",
    "brc = Birch(branching_factor=400, n_clusters=4000, threshold=0.5).fit(X)\n"
   ]
  },
  {
   "cell_type": "code",
   "execution_count": 10,
   "outputs": [
    {
     "name": "stderr",
     "output_type": "stream",
     "text": [
      "/home/annabelle/Documents/TwiiterSentimentAnalysis/venv/lib/python3.8/site-packages/sklearn/utils/deprecation.py:87: FutureWarning: Function get_feature_names is deprecated; get_feature_names is deprecated in 1.0 and will be removed in 1.2. Please use get_feature_names_out instead.\n",
      "  warnings.warn(msg, category=FutureWarning)\n"
     ]
    }
   ],
   "source": [
    "vectoriser = TfidfVectorizer(ngram_range=(1,2), max_features=100)\n",
    "vectoriser.fit_transform(df)\n",
    "result = pd.concat([df,pd.DataFrame(X.toarray(),columns=vectoriser.get_feature_names())],axis=1)\n",
    "result['cluster'] = brc.predict(X)"
   ],
   "metadata": {
    "collapsed": false,
    "pycharm": {
     "name": "#%%\n"
    }
   }
  },
  {
   "cell_type": "code",
   "execution_count": 11,
   "outputs": [
    {
     "data": {
      "text/plain": "                                                    text  cluster\n0      in n out equal gross hah i onlli eat that afte...      181\n1      ive just realiz why my finger hurt its because...      462\n2                final newspapergo to print in the morn       660\n3                                       doing my nail x       927\n4                    is off to the lake then work again      2145\n...                                                  ...      ...\n89995  dang it when did the giant get the rocket as m...     1101\n89996                    got to work when its sunni out      3311\n89997  rememb your mother today yes she might be anno...      250\n89998                        i would have settl for usd      1814\n89999  i dislik oneway communic i dont follow mani pe...     1295\n\n[90000 rows x 2 columns]",
      "text/html": "<div>\n<style scoped>\n    .dataframe tbody tr th:only-of-type {\n        vertical-align: middle;\n    }\n\n    .dataframe tbody tr th {\n        vertical-align: top;\n    }\n\n    .dataframe thead th {\n        text-align: right;\n    }\n</style>\n<table border=\"1\" class=\"dataframe\">\n  <thead>\n    <tr style=\"text-align: right;\">\n      <th></th>\n      <th>text</th>\n      <th>cluster</th>\n    </tr>\n  </thead>\n  <tbody>\n    <tr>\n      <th>0</th>\n      <td>in n out equal gross hah i onlli eat that afte...</td>\n      <td>181</td>\n    </tr>\n    <tr>\n      <th>1</th>\n      <td>ive just realiz why my finger hurt its because...</td>\n      <td>462</td>\n    </tr>\n    <tr>\n      <th>2</th>\n      <td>final newspapergo to print in the morn</td>\n      <td>660</td>\n    </tr>\n    <tr>\n      <th>3</th>\n      <td>doing my nail x</td>\n      <td>927</td>\n    </tr>\n    <tr>\n      <th>4</th>\n      <td>is off to the lake then work again</td>\n      <td>2145</td>\n    </tr>\n    <tr>\n      <th>...</th>\n      <td>...</td>\n      <td>...</td>\n    </tr>\n    <tr>\n      <th>89995</th>\n      <td>dang it when did the giant get the rocket as m...</td>\n      <td>1101</td>\n    </tr>\n    <tr>\n      <th>89996</th>\n      <td>got to work when its sunni out</td>\n      <td>3311</td>\n    </tr>\n    <tr>\n      <th>89997</th>\n      <td>rememb your mother today yes she might be anno...</td>\n      <td>250</td>\n    </tr>\n    <tr>\n      <th>89998</th>\n      <td>i would have settl for usd</td>\n      <td>1814</td>\n    </tr>\n    <tr>\n      <th>89999</th>\n      <td>i dislik oneway communic i dont follow mani pe...</td>\n      <td>1295</td>\n    </tr>\n  </tbody>\n</table>\n<p>90000 rows × 2 columns</p>\n</div>"
     },
     "execution_count": 11,
     "metadata": {},
     "output_type": "execute_result"
    }
   ],
   "source": [
    "result[['text', 'cluster']]"
   ],
   "metadata": {
    "collapsed": false,
    "pycharm": {
     "name": "#%%\n"
    }
   }
  },
  {
   "cell_type": "code",
   "execution_count": 12,
   "outputs": [],
   "source": [
    "clusters = result['cluster'].unique()\n",
    "labels = []\n",
    "for i in range(len(clusters)):\n",
    "    subset = result[result['cluster'] == clusters[i]]\n",
    "    words = ' '.join([x for x in np.where(subset.all()!=0,subset.columns,None) if x and x!='text' and x!='cluster' and len(x.split()) == 1])\n",
    "    labels.append(words)\n",
    "labels_table = pd.DataFrame(zip(clusters,labels),columns=['cluster','label'])\n",
    "result_labelled = pd.merge(result,labels_table,on='cluster',how='left')"
   ],
   "metadata": {
    "collapsed": false,
    "pycharm": {
     "name": "#%%\n"
    }
   }
  },
  {
   "cell_type": "code",
   "execution_count": 13,
   "outputs": [
    {
     "data": {
      "text/plain": "                                                    text  cluster     label\n0      in n out equal gross hah i onlli eat that afte...      181       out\n1      ive just realiz why my finger hurt its because...      462   its too\n2                final newspapergo to print in the morn       660    in the\n3                                       doing my nail x       927        my\n4                    is off to the lake then work again      2145  off then\n...                                                  ...      ...       ...\n89995  dang it when did the giant get the rocket as m...     1101        as\n89996                    got to work when its sunni out      3311  out when\n89997  rememb your mother today yes she might be anno...      250   be your\n89998                        i would have settl for usd      1814       for\n89999  i dislik oneway communic i dont follow mani pe...     1295    but me\n\n[90000 rows x 3 columns]",
      "text/html": "<div>\n<style scoped>\n    .dataframe tbody tr th:only-of-type {\n        vertical-align: middle;\n    }\n\n    .dataframe tbody tr th {\n        vertical-align: top;\n    }\n\n    .dataframe thead th {\n        text-align: right;\n    }\n</style>\n<table border=\"1\" class=\"dataframe\">\n  <thead>\n    <tr style=\"text-align: right;\">\n      <th></th>\n      <th>text</th>\n      <th>cluster</th>\n      <th>label</th>\n    </tr>\n  </thead>\n  <tbody>\n    <tr>\n      <th>0</th>\n      <td>in n out equal gross hah i onlli eat that afte...</td>\n      <td>181</td>\n      <td>out</td>\n    </tr>\n    <tr>\n      <th>1</th>\n      <td>ive just realiz why my finger hurt its because...</td>\n      <td>462</td>\n      <td>its too</td>\n    </tr>\n    <tr>\n      <th>2</th>\n      <td>final newspapergo to print in the morn</td>\n      <td>660</td>\n      <td>in the</td>\n    </tr>\n    <tr>\n      <th>3</th>\n      <td>doing my nail x</td>\n      <td>927</td>\n      <td>my</td>\n    </tr>\n    <tr>\n      <th>4</th>\n      <td>is off to the lake then work again</td>\n      <td>2145</td>\n      <td>off then</td>\n    </tr>\n    <tr>\n      <th>...</th>\n      <td>...</td>\n      <td>...</td>\n      <td>...</td>\n    </tr>\n    <tr>\n      <th>89995</th>\n      <td>dang it when did the giant get the rocket as m...</td>\n      <td>1101</td>\n      <td>as</td>\n    </tr>\n    <tr>\n      <th>89996</th>\n      <td>got to work when its sunni out</td>\n      <td>3311</td>\n      <td>out when</td>\n    </tr>\n    <tr>\n      <th>89997</th>\n      <td>rememb your mother today yes she might be anno...</td>\n      <td>250</td>\n      <td>be your</td>\n    </tr>\n    <tr>\n      <th>89998</th>\n      <td>i would have settl for usd</td>\n      <td>1814</td>\n      <td>for</td>\n    </tr>\n    <tr>\n      <th>89999</th>\n      <td>i dislik oneway communic i dont follow mani pe...</td>\n      <td>1295</td>\n      <td>but me</td>\n    </tr>\n  </tbody>\n</table>\n<p>90000 rows × 3 columns</p>\n</div>"
     },
     "execution_count": 13,
     "metadata": {},
     "output_type": "execute_result"
    }
   ],
   "source": [
    "result_labelled[['text', 'cluster', 'label']]"
   ],
   "metadata": {
    "collapsed": false,
    "pycharm": {
     "name": "#%%\n"
    }
   }
  },
  {
   "cell_type": "code",
   "execution_count": 14,
   "outputs": [
    {
     "data": {
      "text/plain": "                    count of text\nlabel                            \n                             8936\ngo to                        1389\nthe                          1023\nfor the                       863\nin the                        856\n...                           ...\nas day                          4\nif is there                     4\ndont thank                      4\nas but go the what              3\ncome just not to                3\n\n[2233 rows x 1 columns]",
      "text/html": "<div>\n<style scoped>\n    .dataframe tbody tr th:only-of-type {\n        vertical-align: middle;\n    }\n\n    .dataframe tbody tr th {\n        vertical-align: top;\n    }\n\n    .dataframe thead th {\n        text-align: right;\n    }\n</style>\n<table border=\"1\" class=\"dataframe\">\n  <thead>\n    <tr style=\"text-align: right;\">\n      <th></th>\n      <th>count of text</th>\n    </tr>\n    <tr>\n      <th>label</th>\n      <th></th>\n    </tr>\n  </thead>\n  <tbody>\n    <tr>\n      <th></th>\n      <td>8936</td>\n    </tr>\n    <tr>\n      <th>go to</th>\n      <td>1389</td>\n    </tr>\n    <tr>\n      <th>the</th>\n      <td>1023</td>\n    </tr>\n    <tr>\n      <th>for the</th>\n      <td>863</td>\n    </tr>\n    <tr>\n      <th>in the</th>\n      <td>856</td>\n    </tr>\n    <tr>\n      <th>...</th>\n      <td>...</td>\n    </tr>\n    <tr>\n      <th>as day</th>\n      <td>4</td>\n    </tr>\n    <tr>\n      <th>if is there</th>\n      <td>4</td>\n    </tr>\n    <tr>\n      <th>dont thank</th>\n      <td>4</td>\n    </tr>\n    <tr>\n      <th>as but go the what</th>\n      <td>3</td>\n    </tr>\n    <tr>\n      <th>come just not to</th>\n      <td>3</td>\n    </tr>\n  </tbody>\n</table>\n<p>2233 rows × 1 columns</p>\n</div>"
     },
     "execution_count": 14,
     "metadata": {},
     "output_type": "execute_result"
    }
   ],
   "source": [
    "pd.pivot_table(result_labelled, index=['label'], values=['text'], aggfunc='count').sort_values(['text'], ascending=False).rename(columns={'text':'count of text'})"
   ],
   "metadata": {
    "collapsed": false,
    "pycharm": {
     "name": "#%%\n"
    }
   }
  },
  {
   "cell_type": "code",
   "execution_count": 15,
   "outputs": [
    {
     "data": {
      "text/plain": "0.12218790215750593"
     },
     "execution_count": 15,
     "metadata": {},
     "output_type": "execute_result"
    }
   ],
   "source": [
    "sil_score = silhouette_score(X, brc.labels_)\n",
    "sil_score"
   ],
   "metadata": {
    "collapsed": false,
    "pycharm": {
     "name": "#%%\n"
    }
   }
  },
  {
   "cell_type": "code",
   "source": [
    "from sklearn.metrics import davies_bouldin_score\n",
    "davies_bouldin_score(X.toarray(), brc.labels_)"
   ],
   "metadata": {
    "collapsed": false,
    "pycharm": {
     "name": "#%%\n"
    }
   },
   "execution_count": 8,
   "outputs": [
    {
     "data": {
      "text/plain": "2.200387964496554"
     },
     "execution_count": 8,
     "metadata": {},
     "output_type": "execute_result"
    }
   ]
  },
  {
   "cell_type": "markdown",
   "source": [
    "0.09\n",
    "3.46"
   ],
   "metadata": {
    "collapsed": false,
    "pycharm": {
     "name": "#%% md\n"
    }
   }
  }
 ],
 "metadata": {
  "kernelspec": {
   "display_name": "Python 3 (ipykernel)",
   "language": "python",
   "name": "python3"
  },
  "language_info": {
   "codemirror_mode": {
    "name": "ipython",
    "version": 3
   },
   "file_extension": ".py",
   "mimetype": "text/x-python",
   "name": "python",
   "nbconvert_exporter": "python",
   "pygments_lexer": "ipython3",
   "version": "3.7.12"
  }
 },
 "nbformat": 4,
 "nbformat_minor": 1
}