{
 "cells": [
  {
   "cell_type": "code",
   "execution_count": 1,
   "metadata": {
    "pycharm": {
     "name": "#%%\n"
    }
   },
   "outputs": [
    {
     "name": "stdout",
     "output_type": "stream",
     "text": [
      "starting preprocessing...\n",
      "...preprocessing completed\n",
      "starting vectorizing words...\n",
      "...words vectorized\n"
     ]
    },
    {
     "data": {
      "text/plain": "<Figure size 432x288 with 1 Axes>",
      "image/png": "[encoded data removed]"
     },
     "metadata": {
      "needs_background": "light"
     },
     "output_type": "display_data"
    }
   ],
   "source": [
    "from sklearn.cluster import KMeans\n",
    "from sklearn.feature_extraction.text import TfidfVectorizer\n",
    "from sklearn.metrics import silhouette_score\n",
    "import pandas as pd\n",
    "import matplotlib.pyplot as plt\n",
    "from preprocessing import Preprocessing\n",
    "import numpy as np\n",
    "import tfidf\n",
    "\n",
    "prp = Preprocessing()\n",
    "df = prp.main()\n",
    "df = Preprocessing.preprocess(df)\n",
    "df = df['text']\n",
    "ntf = tfidf.TFIDF(df)\n",
    "X = ntf.df_tfidf_vectorize(df)\n",
    "sse={}\n",
    "\n",
    "\n",
    "for k in np.arange(100,900,100):\n",
    "    kmeans = KMeans(n_clusters=k, max_iter=800).fit(X)\n",
    "    sse[k] = kmeans.inertia_\n",
    "plt.plot(list(sse.keys()),list(sse.values()), 'bx-')\n",
    "plt.xlabel('Values for K')\n",
    "plt.ylabel('SSE')\n",
    "plt.show();"
   ]
  },
  {
   "cell_type": "code",
   "execution_count": 2,
   "outputs": [
    {
     "name": "stderr",
     "output_type": "stream",
     "text": [
      "/home/annabelle/Documents/TwiiterSentimentAnalysis/venv/lib/python3.8/site-packages/sklearn/utils/deprecation.py:87: FutureWarning: Function get_feature_names is deprecated; get_feature_names is deprecated in 1.0 and will be removed in 1.2. Please use get_feature_names_out instead.\n",
      "  warnings.warn(msg, category=FutureWarning)\n"
     ]
    }
   ],
   "source": [
    "vectoriser = TfidfVectorizer(ngram_range=(1,2), max_features=100)\n",
    "vectoriser.fit_transform(df)\n",
    "kmeans = KMeans(n_clusters=200)\n",
    "kmeans.fit(X)\n",
    "result = pd.concat([df,pd.DataFrame(X.toarray(),columns=vectoriser.get_feature_names())],axis=1)\n",
    "result['cluster'] = kmeans.predict(X)"
   ],
   "metadata": {
    "collapsed": false,
    "pycharm": {
     "name": "#%%\n"
    }
   }
  },
  {
   "cell_type": "code",
   "execution_count": 3,
   "outputs": [
    {
     "data": {
      "text/plain": "                                                      text  cluster\n0        a that a bummer you shoulda got david carr of ...      195\n1        is upset that he cant updat his facebook by te...       69\n2        i dive mani time for the ball manag to save 50...       25\n3           my whole bodi feel itchi and like its on fire        50\n4        no its not behav at all im mad why am i here b...       89\n...                                                    ...      ...\n1599995  just woke up having no school is the best feel...      124\n1599996  thewdbcom very cool to hear old walt interview...       74\n1599997  are you readi for your mojo makeov ask me for ...      175\n1599998  happi 38th birthday to my boo of alll time tup...      114\n1599999                              happi charitytuesday        14\n\n[1600000 rows x 2 columns]",
      "text/html": "<div>\n<style scoped>\n    .dataframe tbody tr th:only-of-type {\n        vertical-align: middle;\n    }\n\n    .dataframe tbody tr th {\n        vertical-align: top;\n    }\n\n    .dataframe thead th {\n        text-align: right;\n    }\n</style>\n<table border=\"1\" class=\"dataframe\">\n  <thead>\n    <tr style=\"text-align: right;\">\n      <th></th>\n      <th>text</th>\n      <th>cluster</th>\n    </tr>\n  </thead>\n  <tbody>\n    <tr>\n      <th>0</th>\n      <td>a that a bummer you shoulda got david carr of ...</td>\n      <td>195</td>\n    </tr>\n    <tr>\n      <th>1</th>\n      <td>is upset that he cant updat his facebook by te...</td>\n      <td>69</td>\n    </tr>\n    <tr>\n      <th>2</th>\n      <td>i dive mani time for the ball manag to save 50...</td>\n      <td>25</td>\n    </tr>\n    <tr>\n      <th>3</th>\n      <td>my whole bodi feel itchi and like its on fire</td>\n      <td>50</td>\n    </tr>\n    <tr>\n      <th>4</th>\n      <td>no its not behav at all im mad why am i here b...</td>\n      <td>89</td>\n    </tr>\n    <tr>\n      <th>...</th>\n      <td>...</td>\n      <td>...</td>\n    </tr>\n    <tr>\n      <th>1599995</th>\n      <td>just woke up having no school is the best feel...</td>\n      <td>124</td>\n    </tr>\n    <tr>\n      <th>1599996</th>\n      <td>thewdbcom very cool to hear old walt interview...</td>\n      <td>74</td>\n    </tr>\n    <tr>\n      <th>1599997</th>\n      <td>are you readi for your mojo makeov ask me for ...</td>\n      <td>175</td>\n    </tr>\n    <tr>\n      <th>1599998</th>\n      <td>happi 38th birthday to my boo of alll time tup...</td>\n      <td>114</td>\n    </tr>\n    <tr>\n      <th>1599999</th>\n      <td>happi charitytuesday</td>\n      <td>14</td>\n    </tr>\n  </tbody>\n</table>\n<p>1600000 rows × 2 columns</p>\n</div>"
     },
     "execution_count": 3,
     "metadata": {},
     "output_type": "execute_result"
    }
   ],
   "source": [
    "result[['text', 'cluster']]"
   ],
   "metadata": {
    "collapsed": false,
    "pycharm": {
     "name": "#%%\n"
    }
   }
  },
  {
   "cell_type": "code",
   "execution_count": 4,
   "outputs": [],
   "source": [
    "clusters = result['cluster'].unique()\n",
    "labels = []\n",
    "for i in range(len(clusters)):\n",
    "    subset = result[result['cluster'] == clusters[i]]\n",
    "    words = ' '.join([x for x in np.where(subset.all()!=0,subset.columns,None) if x and x!='text' and x!='cluster' and len(x.split()) == 1])\n",
    "    labels.append(words)\n",
    "labels_table = pd.DataFrame(zip(clusters,labels),columns=['cluster','label'])\n",
    "result_labelled = pd.merge(result,labels_table,on='cluster',how='left')"
   ],
   "metadata": {
    "collapsed": false,
    "pycharm": {
     "name": "#%%\n"
    }
   }
  },
  {
   "cell_type": "code",
   "execution_count": 5,
   "outputs": [
    {
     "data": {
      "text/plain": "                                                      text  cluster      label\n0        a that a bummer you shoulda got david carr of ...      195     do you\n1        is upset that he cant updat his facebook by te...       69         as\n2        i dive mani time for the ball manag to save 50...       25    for the\n3           my whole bodi feel itchi and like its on fire        50  feel like\n4        no its not behav at all im mad why am i here b...       89        all\n...                                                    ...      ...        ...\n1599995  just woke up having no school is the best feel...      124       feel\n1599996  thewdbcom very cool to hear old walt interview...       74         to\n1599997  are you readi for your mojo makeov ask me for ...      175        for\n1599998  happi 38th birthday to my boo of alll time tup...      114       time\n1599999                              happi charitytuesday        14           \n\n[1600000 rows x 3 columns]",
      "text/html": "<div>\n<style scoped>\n    .dataframe tbody tr th:only-of-type {\n        vertical-align: middle;\n    }\n\n    .dataframe tbody tr th {\n        vertical-align: top;\n    }\n\n    .dataframe thead th {\n        text-align: right;\n    }\n</style>\n<table border=\"1\" class=\"dataframe\">\n  <thead>\n    <tr style=\"text-align: right;\">\n      <th></th>\n      <th>text</th>\n      <th>cluster</th>\n      <th>label</th>\n    </tr>\n  </thead>\n  <tbody>\n    <tr>\n      <th>0</th>\n      <td>a that a bummer you shoulda got david carr of ...</td>\n      <td>195</td>\n      <td>do you</td>\n    </tr>\n    <tr>\n      <th>1</th>\n      <td>is upset that he cant updat his facebook by te...</td>\n      <td>69</td>\n      <td>as</td>\n    </tr>\n    <tr>\n      <th>2</th>\n      <td>i dive mani time for the ball manag to save 50...</td>\n      <td>25</td>\n      <td>for the</td>\n    </tr>\n    <tr>\n      <th>3</th>\n      <td>my whole bodi feel itchi and like its on fire</td>\n      <td>50</td>\n      <td>feel like</td>\n    </tr>\n    <tr>\n      <th>4</th>\n      <td>no its not behav at all im mad why am i here b...</td>\n      <td>89</td>\n      <td>all</td>\n    </tr>\n    <tr>\n      <th>...</th>\n      <td>...</td>\n      <td>...</td>\n      <td>...</td>\n    </tr>\n    <tr>\n      <th>1599995</th>\n      <td>just woke up having no school is the best feel...</td>\n      <td>124</td>\n      <td>feel</td>\n    </tr>\n    <tr>\n      <th>1599996</th>\n      <td>thewdbcom very cool to hear old walt interview...</td>\n      <td>74</td>\n      <td>to</td>\n    </tr>\n    <tr>\n      <th>1599997</th>\n      <td>are you readi for your mojo makeov ask me for ...</td>\n      <td>175</td>\n      <td>for</td>\n    </tr>\n    <tr>\n      <th>1599998</th>\n      <td>happi 38th birthday to my boo of alll time tup...</td>\n      <td>114</td>\n      <td>time</td>\n    </tr>\n    <tr>\n      <th>1599999</th>\n      <td>happi charitytuesday</td>\n      <td>14</td>\n      <td></td>\n    </tr>\n  </tbody>\n</table>\n<p>1600000 rows × 3 columns</p>\n</div>"
     },
     "execution_count": 5,
     "metadata": {},
     "output_type": "execute_result"
    }
   ],
   "source": [
    "result_labelled[['text', 'cluster', 'label']]"
   ],
   "metadata": {
    "collapsed": false,
    "pycharm": {
     "name": "#%%\n"
    }
   }
  },
  {
   "cell_type": "code",
   "execution_count": 6,
   "outputs": [
    {
     "data": {
      "text/plain": "             count of text\nlabel                     \n                     94079\ngo                   29788\nin the               25519\nmy                   21127\nfor the              20944\n...                    ...\nim oh                 2981\nin the was            2981\nmiss too              2361\nlike more             2006\nnow twitter           1697\n\n[161 rows x 1 columns]",
      "text/html": "<div>\n<style scoped>\n    .dataframe tbody tr th:only-of-type {\n        vertical-align: middle;\n    }\n\n    .dataframe tbody tr th {\n        vertical-align: top;\n    }\n\n    .dataframe thead th {\n        text-align: right;\n    }\n</style>\n<table border=\"1\" class=\"dataframe\">\n  <thead>\n    <tr style=\"text-align: right;\">\n      <th></th>\n      <th>count of text</th>\n    </tr>\n    <tr>\n      <th>label</th>\n      <th></th>\n    </tr>\n  </thead>\n  <tbody>\n    <tr>\n      <th></th>\n      <td>94079</td>\n    </tr>\n    <tr>\n      <th>go</th>\n      <td>29788</td>\n    </tr>\n    <tr>\n      <th>in the</th>\n      <td>25519</td>\n    </tr>\n    <tr>\n      <th>my</th>\n      <td>21127</td>\n    </tr>\n    <tr>\n      <th>for the</th>\n      <td>20944</td>\n    </tr>\n    <tr>\n      <th>...</th>\n      <td>...</td>\n    </tr>\n    <tr>\n      <th>im oh</th>\n      <td>2981</td>\n    </tr>\n    <tr>\n      <th>in the was</th>\n      <td>2981</td>\n    </tr>\n    <tr>\n      <th>miss too</th>\n      <td>2361</td>\n    </tr>\n    <tr>\n      <th>like more</th>\n      <td>2006</td>\n    </tr>\n    <tr>\n      <th>now twitter</th>\n      <td>1697</td>\n    </tr>\n  </tbody>\n</table>\n<p>161 rows × 1 columns</p>\n</div>"
     },
     "execution_count": 6,
     "metadata": {},
     "output_type": "execute_result"
    }
   ],
   "source": [
    "pd.pivot_table(result_labelled, index=['label'], values=['text'], aggfunc='count').sort_values(['text'], ascending=False).rename(columns={'text':'count of text'})"
   ],
   "metadata": {
    "collapsed": false,
    "pycharm": {
     "name": "#%%\n"
    }
   }
  },
  {
   "cell_type": "code",
   "execution_count": 7,
   "outputs": [
    {
     "data": {
      "text/plain": "0.04533188939816792"
     },
     "execution_count": 7,
     "metadata": {},
     "output_type": "execute_result"
    }
   ],
   "source": [
    "sil_score = silhouette_score(X, kmeans.labels_)\n",
    "sil_score"
   ],
   "metadata": {
    "collapsed": false,
    "pycharm": {
     "name": "#%%\n"
    }
   }
  },
  {
   "cell_type": "code",
   "source": [
    "from sklearn.metrics import davies_bouldin_score\n",
    "davies_bouldin_score(X.toarray(), kmeans.labels_)"
   ],
   "metadata": {
    "collapsed": false,
    "pycharm": {
     "name": "#%%\n"
    }
   },
   "execution_count": 9,
   "outputs": [
    {
     "data": {
      "text/plain": "3.0072716916735747"
     },
     "execution_count": 9,
     "metadata": {},
     "output_type": "execute_result"
    }
   ]
  }
 ],
 "metadata": {
  "kernelspec": {
   "display_name": "Python 3 (ipykernel)",
   "language": "python",
   "name": "python3"
  },
  "language_info": {
   "codemirror_mode": {
    "name": "ipython",
    "version": 3
   },
   "file_extension": ".py",
   "mimetype": "text/x-python",
   "name": "python",
   "nbconvert_exporter": "python",
   "pygments_lexer": "ipython3",
   "version": "3.7.12"
  }
 },
 "nbformat": 4,
 "nbformat_minor": 1
}