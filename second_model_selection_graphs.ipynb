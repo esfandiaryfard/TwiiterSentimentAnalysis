{
 "cells": [
  {
   "cell_type": "code",
   "execution_count": null,
   "outputs": [],
   "source": [
    "import pandas as pd\n",
    "import seaborn as sns\n",
    "from settings import BASE_DIR\n",
    "from pandas_profiling import ProfileReport\n",
    "import json\n",
    "import matplotlib.pyplot as plt\n",
    "\n",
    "def load_configs(json_file, interested_model=None):\n",
    "    x = open(\"{BaseDir}/TwiiterSentimentAnalysis/{File}\".format(BaseDir=BASE_DIR, File=json_file), 'r').read().replace(\"\\n\",\"\").replace(\"\\t\",\" \").split('}',)\n",
    "    x = [y+'}' for y in x]\n",
    "    jsons = [json.loads(y) for y in x[:-1]]\n",
    "    if interested_model != None:\n",
    "        jsons = [json for json in jsons if json[\"model\"] == interested_model]\n",
    "    jsons = pd.DataFrame(jsons)\n",
    "    return jsons\n",
    "\n",
    "mnb_model_params = load_configs(json_file=\"second_screening_results.json\")\n",
    "mnb_model_params[[\"embedding\", \"model\"]] = mnb_model_params.model.str.split('(TFIDF|W2V)', expand=True).drop(0,axis=1)"
   ],
   "metadata": {
    "collapsed": false,
    "pycharm": {
     "name": "#%%\n"
    }
   }
  },
  {
   "cell_type": "code",
   "execution_count": 45,
   "id": "a71f1002",
   "metadata": {
    "pycharm": {
     "name": "#%%\n"
    }
   },
   "outputs": [],
   "source": [
    "sns.set(rc={\"figure.figsize\":(10, 10)})\n",
    "graph = sns.scatterplot(\n",
    "    x='mean_score_time',\n",
    "    y='mean_test_score',\n",
    "    size='model',\n",
    "    sizes=(200,200),\n",
    "    data=mnb_model_params,\n",
    "    hue='model',\n",
    "    style='embedding'\n",
    ")\n",
    "\n",
    "graph.legend(loc='center left', bbox_to_anchor=(1, 0.5))\n",
    "plt.show()"
   ]
  },
  {
   "cell_type": "code",
   "execution_count": 46,
   "id": "6571fea4",
   "metadata": {},
   "outputs": [],
   "source": [
    "sns.set(rc={\"figure.figsize\":(10, 10)})\n",
    "graph = sns.scatterplot(\n",
    "    x='mean_score_time',\n",
    "    y='mean_test_score',\n",
    "    size='model',\n",
    "    sizes=(200,200),\n",
    "    data=mnb_model_params.query('mean_test_score > 0.80'),\n",
    "    hue='model',\n",
    "    style='embedding'\n",
    ")\n",
    "\n",
    "graph.legend(loc='center left', bbox_to_anchor=(1, 0.5))\n",
    "plt.show()"
   ]
  },
  {
   "cell_type": "code",
   "execution_count": 16,
   "outputs": [],
   "source": [
    "sns.set(rc={\"figure.figsize\":(20, 20)})\n",
    "graph = sns.boxplot(x='model', y='mean_test_score', data=mnb_model_params, hue='embedding')\n",
    "graph.legend(loc='center left', bbox_to_anchor=(1, 0.5))\n",
    "plt.show()"
   ],
   "metadata": {
    "collapsed": false,
    "pycharm": {
     "name": "#%%\n"
    }
   }
  },
  {
   "cell_type": "code",
   "execution_count": 70,
   "outputs": [],
   "source": [
    "params = mnb_model_params.sort_values(['mean_train_score', 'mean_test_score'])\n",
    "values = [i for i in range(1, 9)]\n",
    "plt.plot(values, params.mean_train_score, '-o', label='Train')\n",
    "plt.plot(values, params.mean_test_score, '-o' , label='Test')\n",
    "plt.legend()\n",
    "plt.show()"
   ],
   "metadata": {
    "collapsed": false,
    "pycharm": {
     "name": "#%%\n"
    }
   }
  },
  {
   "cell_type": "code",
   "execution_count": 84,
   "id": "b834325d",
   "metadata": {
    "pycharm": {
     "name": "#%%\n"
    },
    "scrolled": true
   },
   "outputs": [
    {
     "data": {
      "text/plain": "            model  model__alpha  model__tfidf_max_features  mean_test_score  \\\n9       LinearSVC           NaN                    8739130         0.821287   \n18  MultinomialNB      3.201322                   12541780         0.798727   \n23  MultinomialNB      4.153737                   12225808         0.797645   \n34  MultinomialNB      4.158227                   15278050         0.797637   \n37  MultinomialNB      3.999616                    2972621         0.797889   \n43  MultinomialNB      3.972427                   20178997         0.797842   \n44  MultinomialNB      4.114778                   19469408         0.797680   \n\n    mean_score_time  mean_fit_time  mean_train_score  model__C model__dual  \\\n9          9.195892     215.326210          0.845250  0.433223       False   \n18         8.550727      78.634145          0.849034       NaN         NaN   \n23         8.849550      80.910435          0.841711       NaN         NaN   \n34         8.860773      82.316826          0.841680       NaN         NaN   \n37         8.536610      80.797951          0.842268       NaN         NaN   \n43         9.483196      86.967824          0.842942       NaN         NaN   \n44         8.394109      79.669452          0.841975       NaN         NaN   \n\n    model__intercept_scaling  model__max_iter model__penalty  model__tol  \\\n9                   9.470073            549.0             l1    0.000818   \n18                       NaN              NaN            NaN         NaN   \n23                       NaN              NaN            NaN         NaN   \n34                       NaN              NaN            NaN         NaN   \n37                       NaN              NaN            NaN         NaN   \n43                       NaN              NaN            NaN         NaN   \n44                       NaN              NaN            NaN         NaN   \n\n   embedding  \n9      TFIDF  \n18     TFIDF  \n23     TFIDF  \n34     TFIDF  \n37     TFIDF  \n43     TFIDF  \n44     TFIDF  ",
      "text/html": "<div>\n<style scoped>\n    .dataframe tbody tr th:only-of-type {\n        vertical-align: middle;\n    }\n\n    .dataframe tbody tr th {\n        vertical-align: top;\n    }\n\n    .dataframe thead th {\n        text-align: right;\n    }\n</style>\n<table border=\"1\" class=\"dataframe\">\n  <thead>\n    <tr style=\"text-align: right;\">\n      <th></th>\n      <th>model</th>\n      <th>model__alpha</th>\n      <th>model__tfidf_max_features</th>\n      <th>mean_test_score</th>\n      <th>mean_score_time</th>\n      <th>mean_fit_time</th>\n      <th>mean_train_score</th>\n      <th>model__C</th>\n      <th>model__dual</th>\n      <th>model__intercept_scaling</th>\n      <th>model__max_iter</th>\n      <th>model__penalty</th>\n      <th>model__tol</th>\n      <th>embedding</th>\n    </tr>\n  </thead>\n  <tbody>\n    <tr>\n      <th>9</th>\n      <td>LinearSVC</td>\n      <td>NaN</td>\n      <td>8739130</td>\n      <td>0.821287</td>\n      <td>9.195892</td>\n      <td>215.326210</td>\n      <td>0.845250</td>\n      <td>0.433223</td>\n      <td>False</td>\n      <td>9.470073</td>\n      <td>549.0</td>\n      <td>l1</td>\n      <td>0.000818</td>\n      <td>TFIDF</td>\n    </tr>\n    <tr>\n      <th>18</th>\n      <td>MultinomialNB</td>\n      <td>3.201322</td>\n      <td>12541780</td>\n      <td>0.798727</td>\n      <td>8.550727</td>\n      <td>78.634145</td>\n      <td>0.849034</td>\n      <td>NaN</td>\n      <td>NaN</td>\n      <td>NaN</td>\n      <td>NaN</td>\n      <td>NaN</td>\n      <td>NaN</td>\n      <td>TFIDF</td>\n    </tr>\n    <tr>\n      <th>23</th>\n      <td>MultinomialNB</td>\n      <td>4.153737</td>\n      <td>12225808</td>\n      <td>0.797645</td>\n      <td>8.849550</td>\n      <td>80.910435</td>\n      <td>0.841711</td>\n      <td>NaN</td>\n      <td>NaN</td>\n      <td>NaN</td>\n      <td>NaN</td>\n      <td>NaN</td>\n      <td>NaN</td>\n      <td>TFIDF</td>\n    </tr>\n    <tr>\n      <th>34</th>\n      <td>MultinomialNB</td>\n      <td>4.158227</td>\n      <td>15278050</td>\n      <td>0.797637</td>\n      <td>8.860773</td>\n      <td>82.316826</td>\n      <td>0.841680</td>\n      <td>NaN</td>\n      <td>NaN</td>\n      <td>NaN</td>\n      <td>NaN</td>\n      <td>NaN</td>\n      <td>NaN</td>\n      <td>TFIDF</td>\n    </tr>\n    <tr>\n      <th>37</th>\n      <td>MultinomialNB</td>\n      <td>3.999616</td>\n      <td>2972621</td>\n      <td>0.797889</td>\n      <td>8.536610</td>\n      <td>80.797951</td>\n      <td>0.842268</td>\n      <td>NaN</td>\n      <td>NaN</td>\n      <td>NaN</td>\n      <td>NaN</td>\n      <td>NaN</td>\n      <td>NaN</td>\n      <td>TFIDF</td>\n    </tr>\n    <tr>\n      <th>43</th>\n      <td>MultinomialNB</td>\n      <td>3.972427</td>\n      <td>20178997</td>\n      <td>0.797842</td>\n      <td>9.483196</td>\n      <td>86.967824</td>\n      <td>0.842942</td>\n      <td>NaN</td>\n      <td>NaN</td>\n      <td>NaN</td>\n      <td>NaN</td>\n      <td>NaN</td>\n      <td>NaN</td>\n      <td>TFIDF</td>\n    </tr>\n    <tr>\n      <th>44</th>\n      <td>MultinomialNB</td>\n      <td>4.114778</td>\n      <td>19469408</td>\n      <td>0.797680</td>\n      <td>8.394109</td>\n      <td>79.669452</td>\n      <td>0.841975</td>\n      <td>NaN</td>\n      <td>NaN</td>\n      <td>NaN</td>\n      <td>NaN</td>\n      <td>NaN</td>\n      <td>NaN</td>\n      <td>TFIDF</td>\n    </tr>\n  </tbody>\n</table>\n</div>"
     },
     "execution_count": 84,
     "metadata": {},
     "output_type": "execute_result"
    }
   ],
   "source": [
    "mnb_model_params.query('mean_train_score < 0.85 and mean_score_time<10')"
   ]
  }
 ],
 "metadata": {
  "kernelspec": {
   "display_name": "Python 3 (ipykernel)",
   "language": "python",
   "name": "python3"
  },
  "language_info": {
   "codemirror_mode": {
    "name": "ipython",
    "version": 3
   },
   "file_extension": ".py",
   "mimetype": "text/x-python",
   "name": "python",
   "nbconvert_exporter": "python",
   "pygments_lexer": "ipython3",
   "version": "3.8.5"
  }
 },
 "nbformat": 4,
 "nbformat_minor": 5
}